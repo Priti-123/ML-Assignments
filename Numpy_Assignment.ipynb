{
 "cells": [
  {
   "cell_type": "markdown",
   "metadata": {},
   "source": [
    "#### Write a function so that the columns of the output matrix are powers of the input vector.\n",
    "#### The order of the powers is determined by the increasing boolean argument. Specifically, when increasing is False, the i-th output column is the input vector raised element-wise to the power of N - i - 1.\n",
    "#### HINT: Such a matrix with a geometric progression in each row is named for Alexandre-Theophile Vandermonde."
   ]
  },
  {
   "cell_type": "code",
   "execution_count": 1,
   "metadata": {},
   "outputs": [],
   "source": [
    "import numpy as np"
   ]
  },
  {
   "cell_type": "code",
   "execution_count": 2,
   "metadata": {},
   "outputs": [
    {
     "name": "stdout",
     "output_type": "stream",
     "text": [
      "The input array is: [1 2 3 4 5] \n",
      "\n",
      "Number of columns in output matrix should be: 3 \n",
      "\n",
      "Vander matrix of the input array in decreasing order of powers:\n",
      "\n",
      " [[ 1  1  1]\n",
      " [ 4  2  1]\n",
      " [ 9  3  1]\n",
      " [16  4  1]\n",
      " [25  5  1]] \n",
      "\n",
      "Vander matrix of the input array in increasing order of powers:\n",
      "\n",
      " [[ 1  1  1]\n",
      " [ 1  2  4]\n",
      " [ 1  3  9]\n",
      " [ 1  4 16]\n",
      " [ 1  5 25]] \n",
      "\n"
     ]
    }
   ],
   "source": [
    "def AT_Vandermonde(ip_matrix, N, increasing=False):\n",
    "    \n",
    "    if not increasing:\n",
    "        op_matrix = np.array([x**(N-1-i) for x in ip_matrix for i in range(N)]).reshape(ip_matrix.size,N)\n",
    "    elif increasing:\n",
    "        op_matrix = np.array([x**i for x in ip_matrix for i in range(N)]).reshape(ip_matrix.size,N)\n",
    "    \n",
    "    return op_matrix\n",
    "\n",
    "\n",
    "Input_Matrix = np.array([1,2,3,4,5])\n",
    "Cols_opmatrix = 3\n",
    "op_matrix_dec_order = AT_Vandermonde(Input_Matrix,Cols_opmatrix,False)\n",
    "op_matrix_inc_order = AT_Vandermonde(Input_Matrix,Cols_opmatrix,True)\n",
    "\n",
    "print(\"The input array is:\",Input_Matrix,\"\\n\")\n",
    "print(\"Number of columns in output matrix should be:\",Cols_opmatrix,\"\\n\")\n",
    "print(\"Vander matrix of the input array in decreasing order of powers:\\n\\n\",op_matrix_dec_order,\"\\n\")\n",
    "print(\"Vander matrix of the input array in increasing order of powers:\\n\\n\",op_matrix_inc_order,\"\\n\")"
   ]
  },
  {
   "cell_type": "markdown",
   "metadata": {},
   "source": [
    "### Problem Statement\n",
    "#### Given a sequence of n values x1, x2, ..., xn and a window size k>0, the k-th moving average of the given sequence is defined as follows:\n",
    "#### The moving average sequence has n-k+1 elements as shown below.\n",
    "#### The moving averages with k=4 of a ten-value sequence (n=10) is shown below\n",
    "\n",
    "##### i 1 2 3 4 5 6 7 8 9 10\n",
    "##### ===== == == == == == == == == == ==\n",
    "##### Input 10 20 30 40 50 60 70 80 90 100\n",
    "##### y1 25 = (10+20+30+40)/4\n",
    "##### y2 35 = (20+30+40+50)/4\n",
    "##### y3 45 = (30+40+50+60)/4\n",
    "##### y4 55 = (40+50+60+70)/4\n",
    "##### y5 65 = (50+60+70+80)/4\n",
    "##### y6 75 = (60+70+80+90)/4\n",
    "##### y7 85 = (70+80+90+100)/4\n",
    "\n",
    "#### Thus, the moving average sequence has n-k+1=10-4+1=7 values.\n",
    "\n",
    "### Question\n",
    "#### Write a function to find moving average in an array over a window:\n",
    "#### Test it over [3, 5, 7, 2, 8, 10, 11, 65, 72, 81, 99, 100, 150] and window of 3."
   ]
  },
  {
   "cell_type": "code",
   "execution_count": 3,
   "metadata": {},
   "outputs": [
    {
     "name": "stdout",
     "output_type": "stream",
     "text": [
      "[  5.           4.66666667   5.66666667   6.66666667   9.66666667\n",
      "  28.66666667  49.33333333  72.66666667  84.          93.33333333\n",
      " 116.33333333]\n"
     ]
    }
   ],
   "source": [
    "import numpy as np\n",
    "def moving_average(a, k=3) :\n",
    "    y = np.cumsum(a, dtype=float)\n",
    "    y[k:] = y[k:] - y[:-k]\n",
    "    return y[k - 1:] / k\n",
    "l = [3, 5, 7, 2, 8, 10, 11, 65, 72, 81, 99, 100, 150]\n",
    "print(moving_average(l, 3))"
   ]
  }
 ],
 "metadata": {
  "kernelspec": {
   "display_name": "Python 3",
   "language": "python",
   "name": "python3"
  },
  "language_info": {
   "codemirror_mode": {
    "name": "ipython",
    "version": 3
   },
   "file_extension": ".py",
   "mimetype": "text/x-python",
   "name": "python",
   "nbconvert_exporter": "python",
   "pygments_lexer": "ipython3",
   "version": "3.7.1"
  }
 },
 "nbformat": 4,
 "nbformat_minor": 2
}
