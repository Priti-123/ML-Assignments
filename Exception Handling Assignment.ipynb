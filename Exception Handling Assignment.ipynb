{
 "cells": [
  {
   "cell_type": "markdown",
   "metadata": {},
   "source": [
    "## Question 1\n",
    "### Write a function to compute 5/0 and use try/except to catch the exceptions."
   ]
  },
  {
   "cell_type": "code",
   "execution_count": 1,
   "metadata": {},
   "outputs": [],
   "source": [
    "def try_func(x,y):\n",
    "    try:\n",
    "        z=x/y\n",
    "    \n",
    "    except IOError:\n",
    "        print(\"File open/read/write error\")\n",
    "    except ValueError:\n",
    "        print(\"Please check the type of value entered\")\n",
    "    except ZeroDivisionError:\n",
    "        print(\"Number cannot be divided by Zero\")\n",
    "    else:\n",
    "        print(\"The result for the above arithmatic operation is : {}\".format(z))\n",
    "        \n",
    "    finally:\n",
    "        print(\"The above piece of code is executed as expected\")"
   ]
  },
  {
   "cell_type": "code",
   "execution_count": 2,
   "metadata": {},
   "outputs": [
    {
     "name": "stdout",
     "output_type": "stream",
     "text": [
      "Number cannot be divided by Zero\n",
      "The above piece of code is executed as expected\n"
     ]
    }
   ],
   "source": [
    "try_func(5,0)"
   ]
  },
  {
   "cell_type": "code",
   "execution_count": 3,
   "metadata": {},
   "outputs": [],
   "source": [
    "def try_func(x,y):\n",
    "    try:\n",
    "        z=x/y\n",
    "    \n",
    "    except IOError:\n",
    "        print(\"File open/read/write error\")\n",
    "    except ValueError:\n",
    "        print(\"Please check the type of value entered\")\n",
    "    except Exception as e:\n",
    "        print(\"Error: \" ,e)\n",
    "    else:\n",
    "        print(\"The result for the above arithmatic operation is : {}\".format(z))\n",
    "        \n",
    "    finally:\n",
    "        print(\"The above piece of code is executed as expected\")"
   ]
  },
  {
   "cell_type": "code",
   "execution_count": 4,
   "metadata": {},
   "outputs": [
    {
     "name": "stdout",
     "output_type": "stream",
     "text": [
      "Error:  division by zero\n",
      "The above piece of code is executed as expected\n"
     ]
    }
   ],
   "source": [
    "try_func(5,0)"
   ]
  },
  {
   "cell_type": "code",
   "execution_count": 5,
   "metadata": {},
   "outputs": [
    {
     "name": "stdout",
     "output_type": "stream",
     "text": [
      "The result for the above arithmatic operation is : 4.0\n",
      "The above piece of code is executed as expected\n"
     ]
    }
   ],
   "source": [
    "try_func(8,2)"
   ]
  },
  {
   "cell_type": "markdown",
   "metadata": {},
   "source": [
    "## Question 2\n",
    "### Implement a Python program to generate all sentences where subject is in [\"Americans\", \"Indians\"] and verb is in [\"Play\", \"watch\"] and the object is in [\"Baseball\",\"cricket\"].\n",
    "\n",
    "#### Hint: Subject,Verb and Object should be declared in the program as shown below.\n",
    "##### subjects=[\"Americans \",\"Indians\"]\n",
    "##### verbs=[\"play\",\"watch\"]\n",
    "##### objects=[\"Baseball\",\"Cricket\"]\n",
    "##### Output should come as below:\n",
    "##### Americans play Baseball.\n",
    "##### Americans play Cricket.\n",
    "##### Americans watch Baseball.\n",
    "##### Americans watch Cricket.\n",
    "##### Indians play Baseball.\n",
    "##### Indians play Cricket.\n",
    "##### Indians watch Baseball.\n",
    "##### Indians watch Cricket."
   ]
  },
  {
   "cell_type": "markdown",
   "metadata": {},
   "source": [
    "#### Using Nested for loop to get the above output:"
   ]
  },
  {
   "cell_type": "code",
   "execution_count": 6,
   "metadata": {},
   "outputs": [
    {
     "name": "stdout",
     "output_type": "stream",
     "text": [
      "Americans  play Baseball.\n",
      "Americans  play Cricket.\n",
      "Americans  watch Baseball.\n",
      "Americans  watch Cricket.\n",
      "Indians play Baseball.\n",
      "Indians play Cricket.\n",
      "Indians watch Baseball.\n",
      "Indians watch Cricket.\n"
     ]
    }
   ],
   "source": [
    "subjects=[\"Americans \",\"Indians\"]\n",
    "verbs=[\"play\",\"watch\"]\n",
    "objects=[\"Baseball\",\"Cricket\"]\n",
    "\n",
    "for i in subjects:\n",
    "    for j in verbs:\n",
    "        for k in objects:\n",
    "            print(i+' '+j+' '+k+'.')            "
   ]
  },
  {
   "cell_type": "markdown",
   "metadata": {},
   "source": [
    "#### Using list apprehension method to get the above output:"
   ]
  },
  {
   "cell_type": "code",
   "execution_count": 7,
   "metadata": {},
   "outputs": [
    {
     "name": "stdout",
     "output_type": "stream",
     "text": [
      "Americans  play Baseball.\n",
      "Americans  play Cricket.\n",
      "Americans  watch Baseball.\n",
      "Americans  watch Cricket.\n",
      "Indians play Baseball.\n",
      "Indians play Cricket.\n",
      "Indians watch Baseball.\n",
      "Indians watch Cricket.\n"
     ]
    }
   ],
   "source": [
    "subjects=[\"Americans \",\"Indians\"]\n",
    "verbs=[\"play\",\"watch\"]\n",
    "objects=[\"Baseball\",\"Cricket\"]\n",
    "output= [(a+' '+b+' '+c+'.') for a in subjects for b in verbs for c in objects]\n",
    "for sentence in output:\n",
    "    print(sentence)"
   ]
  }
 ],
 "metadata": {
  "kernelspec": {
   "display_name": "Python 3",
   "language": "python",
   "name": "python3"
  },
  "language_info": {
   "codemirror_mode": {
    "name": "ipython",
    "version": 3
   },
   "file_extension": ".py",
   "mimetype": "text/x-python",
   "name": "python",
   "nbconvert_exporter": "python",
   "pygments_lexer": "ipython3",
   "version": "3.7.0"
  }
 },
 "nbformat": 4,
 "nbformat_minor": 2
}
