{
 "cells": [
  {
   "cell_type": "markdown",
   "metadata": {},
   "source": [
    "### Question 1\n",
    "#### Create the below pattern using nested for loop in Python.\n",
    "                  *\n",
    "                  * *\n",
    "                  * * *\n",
    "                  * * * *\n",
    "                  * * * * *                  \n",
    "                  * * * * \n",
    "                  * * * \n",
    "                  * *  \n",
    "                  *"
   ]
  },
  {
   "cell_type": "code",
   "execution_count": 1,
   "metadata": {},
   "outputs": [
    {
     "name": "stdout",
     "output_type": "stream",
     "text": [
      "\n",
      "*\n",
      "**\n",
      "***\n",
      "****\n",
      "*****\n",
      "****\n",
      "***\n",
      "**\n",
      "*\n"
     ]
    }
   ],
   "source": [
    "\n",
    "for i in range(6):\n",
    "    if i<=5:\n",
    "        for j in (range(i)):\n",
    "            print('*',end='')\n",
    "    print('')\n",
    "else:\n",
    "        for i in range(4,0,-1):\n",
    "            for j in (range(i,0,-1)):\n",
    "                print('*',end='')\n",
    "            print('')\n",
    "      \n",
    "        \n",
    "        "
   ]
  },
  {
   "cell_type": "markdown",
   "metadata": {},
   "source": [
    "### Question 2\n",
    "#### Write a Python program to reverse a word after accepting the input from the user.\n",
    "     Sample:\n",
    "     Input word: ineuron\n",
    "     Output: norueni"
   ]
  },
  {
   "cell_type": "code",
   "execution_count": 2,
   "metadata": {},
   "outputs": [
    {
     "name": "stdout",
     "output_type": "stream",
     "text": [
      "Please enter a word you would like to reverse: Ineuron\n",
      "noruenI\n"
     ]
    }
   ],
   "source": [
    "word=input('Please enter a word you would like to reverse: ')\n",
    "\n",
    "print(word[::-1])"
   ]
  }
 ],
 "metadata": {
  "kernelspec": {
   "display_name": "Python 3",
   "language": "python",
   "name": "python3"
  },
  "language_info": {
   "codemirror_mode": {
    "name": "ipython",
    "version": 3
   },
   "file_extension": ".py",
   "mimetype": "text/x-python",
   "name": "python",
   "nbconvert_exporter": "python",
   "pygments_lexer": "ipython3",
   "version": "3.7.0"
  }
 },
 "nbformat": 4,
 "nbformat_minor": 2
}
