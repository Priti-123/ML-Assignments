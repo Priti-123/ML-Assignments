{
 "cells": [
  {
   "cell_type": "markdown",
   "metadata": {},
   "source": [
    "### 1.1 Write a Python Program(with class concepts) to find the area of the triangle using the below formula.\n",
    "#### area = (s*(s-a)*(s-b)*(s-c)) ** 0.5\n",
    "#### Function to take the length of the sides of triangle from user should be defined in the parent class and function to calculate the area should be defined in subclass."
   ]
  },
  {
   "cell_type": "code",
   "execution_count": 1,
   "metadata": {},
   "outputs": [],
   "source": [
    "class Triangle:\n",
    "    def get_length(self):\n",
    "        count=['First','Second','Third']\n",
    "        sides=[]\n",
    "        for i in count:\n",
    "            input_len=int(input(\"Please enter the length of the {} side of the scalene triangle: \" .format(i)))\n",
    "            sides.append((input_len))\n",
    "        return sides    "
   ]
  },
  {
   "cell_type": "code",
   "execution_count": 2,
   "metadata": {},
   "outputs": [],
   "source": [
    "class Area(Triangle):\n",
    "    def get_area(self,len_of_side_of_triangle):\n",
    "\n",
    "        a=len_of_side_of_triangle[0]\n",
    "        b=len_of_side_of_triangle[1]\n",
    "        c=len_of_side_of_triangle[2]\n",
    "        \n",
    "        s=(a+b+c)/2\n",
    "        \n",
    "        area=(s*(s-a)*(s-b)*(s-c))**0.5\n",
    "        print(area)"
   ]
  },
  {
   "cell_type": "code",
   "execution_count": 3,
   "metadata": {},
   "outputs": [
    {
     "name": "stdout",
     "output_type": "stream",
     "text": [
      "Please enter the length of the First side of the scalene triangle: 3\n",
      "Please enter the length of the Second side of the scalene triangle: 5\n",
      "Please enter the length of the Third side of the scalene triangle: 7\n",
      "6.49519052838329\n"
     ]
    }
   ],
   "source": [
    "scalene_area=Area()\n",
    "len_of_side_of_triangle1=scalene_area.get_length()\n",
    "scalene_area.get_area(len_of_side_of_triangle1)"
   ]
  },
  {
   "cell_type": "markdown",
   "metadata": {},
   "source": [
    "### 1.2 Write a function filter_long_words() that takes a list of words and an integer n and returns the list of words that are longer than n.\n",
    "#### Method 1 - By passing argument (lst) in the function."
   ]
  },
  {
   "cell_type": "code",
   "execution_count": 5,
   "metadata": {},
   "outputs": [],
   "source": [
    "def filter_long_words(lst):\n",
    "    int_len=int(input(\"Please provide the length for which the words needs to be filtered : \"))\n",
    "    lst1=[]\n",
    "    for words in lst:\n",
    "        if len(words) > int_len:\n",
    "            lst1.append(words)\n",
    "    return(lst1)    \n",
    "        "
   ]
  },
  {
   "cell_type": "code",
   "execution_count": 6,
   "metadata": {},
   "outputs": [
    {
     "name": "stdout",
     "output_type": "stream",
     "text": [
      "Please provide the length for which the words needs to be filtered : 3\n"
     ]
    },
    {
     "data": {
      "text/plain": [
       "['werwt', 'ghjy', 'ghu6']"
      ]
     },
     "execution_count": 6,
     "metadata": {},
     "output_type": "execute_result"
    }
   ],
   "source": [
    "filter_long_words(['wr','werwt','ghjy','ghu6','sf'])"
   ]
  },
  {
   "cell_type": "markdown",
   "metadata": {},
   "source": [
    "#### Method 2 - Taking list of words and the integer through console."
   ]
  },
  {
   "cell_type": "code",
   "execution_count": 7,
   "metadata": {},
   "outputs": [],
   "source": [
    "def filter_long_word():\n",
    "    list_of_word=input(\"Please provide the list of words separated by commas : \")\n",
    "    a=list_of_word.split(',')\n",
    "    int_len=int(input(\"Please provide the length, for which the words in the list needs to be filtered : \"))\n",
    "    lst1=[]\n",
    "    for words in a:\n",
    "        if len(words) > int_len:\n",
    "            lst1.append(words)\n",
    "    return(lst1)    \n",
    "        "
   ]
  },
  {
   "cell_type": "code",
   "execution_count": 8,
   "metadata": {},
   "outputs": [
    {
     "name": "stdout",
     "output_type": "stream",
     "text": [
      "Please provide the list of words separated by commas : r5t5,hyry,yy,u,uu74\n",
      "Please provide the length, for which the words in the list needs to be filtered : 3\n"
     ]
    },
    {
     "data": {
      "text/plain": [
       "['r5t5', 'hyry', 'uu74']"
      ]
     },
     "execution_count": 8,
     "metadata": {},
     "output_type": "execute_result"
    }
   ],
   "source": [
    "filter_long_word()"
   ]
  },
  {
   "cell_type": "markdown",
   "metadata": {},
   "source": [
    "### 2.1 Write a Python program using function concept that maps list of words into a list of integers representing the lengths of the corresponding words.\n",
    "#### Hint: If a list [ ab,cde,erty] is passed on to the python function output should come as [2,3,4] Here 2,3 and 4 are the lengths of the words in the list."
   ]
  },
  {
   "cell_type": "code",
   "execution_count": 9,
   "metadata": {},
   "outputs": [],
   "source": [
    "def length_of_word():\n",
    "    list_of_word=input(\"Please enter the list of words in comma separated format : \")\n",
    "    word_split=list_of_word.split(\",\")\n",
    "    lst2=[]\n",
    "    for words in word_split:\n",
    "        i=len(words)\n",
    "        lst2.append(i)\n",
    "    return(lst2)"
   ]
  },
  {
   "cell_type": "code",
   "execution_count": 10,
   "metadata": {},
   "outputs": [
    {
     "name": "stdout",
     "output_type": "stream",
     "text": [
      "Please enter the list of words in comma separated format : errw,oiitg,fht,f45,j844\n"
     ]
    },
    {
     "data": {
      "text/plain": [
       "[4, 5, 3, 3, 4]"
      ]
     },
     "execution_count": 10,
     "metadata": {},
     "output_type": "execute_result"
    }
   ],
   "source": [
    "length_of_word()"
   ]
  },
  {
   "cell_type": "markdown",
   "metadata": {},
   "source": [
    "### 2.2 Write a Python function which takes a character (i.e. a string of length 1) and returns True if it is a vowel, False otherwise."
   ]
  },
  {
   "cell_type": "code",
   "execution_count": 11,
   "metadata": {},
   "outputs": [],
   "source": [
    "def check_vowel():\n",
    "    char=input('Please enter a character of length 1 (will take the first letter incase entered more than 1) : ')[0]\n",
    "    if char in ['a','e','i','o','u','A','E','I','O','U']:\n",
    "        return True\n",
    "    else:\n",
    "        return False   \n"
   ]
  },
  {
   "cell_type": "code",
   "execution_count": 12,
   "metadata": {},
   "outputs": [
    {
     "name": "stdout",
     "output_type": "stream",
     "text": [
      "Please enter a character of length 1 (will take the first letter incase entered more than 1) : E\n"
     ]
    },
    {
     "data": {
      "text/plain": [
       "True"
      ]
     },
     "execution_count": 12,
     "metadata": {},
     "output_type": "execute_result"
    }
   ],
   "source": [
    "check_vowel()"
   ]
  },
  {
   "cell_type": "code",
   "execution_count": 13,
   "metadata": {},
   "outputs": [
    {
     "name": "stdout",
     "output_type": "stream",
     "text": [
      "Please enter a character of length 1 (will take the first letter incase entered more than 1) : D\n"
     ]
    },
    {
     "data": {
      "text/plain": [
       "False"
      ]
     },
     "execution_count": 13,
     "metadata": {},
     "output_type": "execute_result"
    }
   ],
   "source": [
    "check_vowel()"
   ]
  },
  {
   "cell_type": "code",
   "execution_count": 14,
   "metadata": {},
   "outputs": [
    {
     "name": "stdout",
     "output_type": "stream",
     "text": [
      "Please enter a character of length 1 (will take the first letter incase entered more than 1) : Python\n"
     ]
    },
    {
     "data": {
      "text/plain": [
       "False"
      ]
     },
     "execution_count": 14,
     "metadata": {},
     "output_type": "execute_result"
    }
   ],
   "source": [
    "check_vowel()"
   ]
  },
  {
   "cell_type": "code",
   "execution_count": 15,
   "metadata": {},
   "outputs": [
    {
     "name": "stdout",
     "output_type": "stream",
     "text": [
      "Please enter a character of length 1 (will take the first letter incase entered more than 1) : AIR\n"
     ]
    },
    {
     "data": {
      "text/plain": [
       "True"
      ]
     },
     "execution_count": 15,
     "metadata": {},
     "output_type": "execute_result"
    }
   ],
   "source": [
    "check_vowel()"
   ]
  }
 ],
 "metadata": {
  "kernelspec": {
   "display_name": "Python 3",
   "language": "python",
   "name": "python3"
  },
  "language_info": {
   "codemirror_mode": {
    "name": "ipython",
    "version": 3
   },
   "file_extension": ".py",
   "mimetype": "text/x-python",
   "name": "python",
   "nbconvert_exporter": "python",
   "pygments_lexer": "ipython3",
   "version": "3.7.0"
  }
 },
 "nbformat": 4,
 "nbformat_minor": 2
}
